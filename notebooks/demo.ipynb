{
 "cells": [
  {
   "cell_type": "code",
   "execution_count": 2,
   "metadata": {},
   "outputs": [
    {
     "ename": "ModuleNotFoundError",
     "evalue": "No module named 'uuv_mission'",
     "output_type": "error",
     "traceback": [
      "\u001b[1;31m---------------------------------------------------------------------------\u001b[0m",
      "\u001b[1;31mModuleNotFoundError\u001b[0m                       Traceback (most recent call last)",
      "Cell \u001b[1;32mIn[2], line 2\u001b[0m\n\u001b[0;32m      1\u001b[0m \u001b[38;5;66;03m# Add relevant Jupyter notebook extensions \u001b[39;00m\n\u001b[1;32m----> 2\u001b[0m \u001b[38;5;28;01mimport\u001b[39;00m \u001b[38;5;21;01muuv_mission\u001b[39;00m\u001b[38;5;21;01m.\u001b[39;00m\u001b[38;5;21;01mcontrol\u001b[39;00m \u001b[38;5;28;01mas\u001b[39;00m \u001b[38;5;21;01mctrl\u001b[39;00m\n",
      "\u001b[1;31mModuleNotFoundError\u001b[0m: No module named 'uuv_mission'"
     ]
    }
   ],
   "source": [
    "# Add relevant Jupyter notebook extensions \n",
    "import uuv_mission.control as ctrl\n"
   ]
  },
  {
   "cell_type": "code",
   "execution_count": 3,
   "metadata": {},
   "outputs": [
    {
     "name": "stdout",
     "output_type": "stream",
     "text": [
      "['c:\\\\Users\\\\Micpr\\\\Documents\\\\Magdalen&Oxford\\\\Engineering\\\\Year 3\\\\B1 Engineering Computation\\\\Scientific coding\\\\b1-coding-practical-mt24\\\\b1-coding-practical-mt24\\\\notebooks', 'c:\\\\Users\\\\Micpr\\\\Documents\\\\Magdalen&Oxford\\\\Engineering\\\\Year 3\\\\B1 Engineering Computation\\\\Scientific coding\\\\b1-coding-practical-mt24\\\\b1-coding-practical-mt24\\\\:', 'c:\\\\Users\\\\Micpr\\\\Anaconda\\\\python311.zip', 'c:\\\\Users\\\\Micpr\\\\Anaconda\\\\DLLs', 'c:\\\\Users\\\\Micpr\\\\Anaconda\\\\Lib', 'c:\\\\Users\\\\Micpr\\\\Anaconda', '', 'c:\\\\Users\\\\Micpr\\\\Anaconda\\\\Lib\\\\site-packages', 'c:\\\\Users\\\\Micpr\\\\Anaconda\\\\Lib\\\\site-packages\\\\win32', 'c:\\\\Users\\\\Micpr\\\\Anaconda\\\\Lib\\\\site-packages\\\\win32\\\\lib', 'c:\\\\Users\\\\Micpr\\\\Anaconda\\\\Lib\\\\site-packages\\\\Pythonwin']\n"
     ]
    }
   ],
   "source": [
    "# You can double-check your Python path like this...\n",
    "import sys  \n",
    "print(sys.path)"
   ]
  },
  {
   "cell_type": "markdown",
   "metadata": {},
   "source": [
    "# Simulate closed-loop\n",
    "After implementing your control functionality, you can simulate the closed-loop with code that looks something like this..."
   ]
  },
  {
   "cell_type": "code",
   "execution_count": 3,
   "metadata": {},
   "outputs": [
    {
     "ename": "ModuleNotFoundError",
     "evalue": "No module named 'uuv_mission'",
     "output_type": "error",
     "traceback": [
      "\u001b[1;31m---------------------------------------------------------------------------\u001b[0m",
      "\u001b[1;31mModuleNotFoundError\u001b[0m                       Traceback (most recent call last)",
      "Cell \u001b[1;32mIn[3], line 2\u001b[0m\n\u001b[0;32m      1\u001b[0m \u001b[38;5;66;03m# Import relevant modules\u001b[39;00m\n\u001b[1;32m----> 2\u001b[0m \u001b[38;5;28;01mimport\u001b[39;00m \u001b[38;5;21;01muuv_mission\u001b[39;00m\u001b[38;5;21;01m.\u001b[39;00m\u001b[38;5;21;01mcontrol\u001b[39;00m \u001b[38;5;28;01mas\u001b[39;00m \u001b[38;5;21;01mctrl\u001b[39;00m\n\u001b[0;32m      4\u001b[0m sub \u001b[38;5;241m=\u001b[39m Submarine()\n\u001b[0;32m      5\u001b[0m controller \u001b[38;5;241m=\u001b[39m Controller() \n",
      "\u001b[1;31mModuleNotFoundError\u001b[0m: No module named 'uuv_mission'"
     ]
    }
   ],
   "source": [
    "# Import relevant modules\n",
    "import uuv_mission.control as ctrl\n",
    "\n",
    "sub = Submarine()\n",
    "controller = Controller() \n",
    "\n",
    "closed_loop = ClosedLoop(sub, controller)\n",
    "mission = Mission.from_csv(\"path/to/file\") # You must implement this method in the Mission class\n",
    "\n",
    "trajectory = closed_loop.simulate_with_random_disturbances(mission)\n",
    "trajectory.plot_completed_mission(mission)"
   ]
  }
 ],
 "metadata": {
  "kernelspec": {
   "display_name": "base",
   "language": "python",
   "name": "python3"
  },
  "language_info": {
   "codemirror_mode": {
    "name": "ipython",
    "version": 3
   },
   "file_extension": ".py",
   "mimetype": "text/x-python",
   "name": "python",
   "nbconvert_exporter": "python",
   "pygments_lexer": "ipython3",
   "version": "3.11.4"
  }
 },
 "nbformat": 4,
 "nbformat_minor": 2
}
